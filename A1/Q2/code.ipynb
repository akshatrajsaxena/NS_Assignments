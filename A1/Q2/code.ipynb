{
 "cells": [
  {
   "cell_type": "markdown",
   "metadata": {},
   "source": [
    "**NOTE: In question 5 i have visulaized all the three graphs that i used in Q1,Q2,Q3 from the Assignment 1 with 3 different layout of each. Also i have saved two files of each layout png and pdf, pdf file is high definition file in which we can zoom in and see the nodes, edges and weights clearly. I have attached the cystoscope session file also in the submission.**"
   ]
  },
  {
   "cell_type": "code",
   "execution_count": 1,
   "metadata": {},
   "outputs": [],
   "source": [
    "import matplotlib.pyplot as plt\n",
    "from collections import defaultdict\n",
    "import csv"
   ]
  },
  {
   "cell_type": "code",
   "execution_count": 2,
   "metadata": {},
   "outputs": [
    {
     "name": "stdout",
     "output_type": "stream",
     "text": [
      "Number of nodes with in-degrees: 2381\n",
      "Number of nodes with out-degrees: 6110\n",
      "Maximum in-degree: 457\n",
      "Maximum out-degree: 893\n"
     ]
    }
   ],
   "source": [
    "def data(filename):\n",
    "    edges = []\n",
    "    with open(filename, 'r') as f:\n",
    "        for line in f:\n",
    "            if line.startswith('#'):\n",
    "                continue\n",
    "            source, target = map(int, line.strip().split())\n",
    "            edges.append((source, target))\n",
    "    return edges\n",
    "\n",
    "def degress(edges):\n",
    "    inDeg = defaultdict(int)\n",
    "    outDeg = defaultdict(int)\n",
    "    for source, target in edges:\n",
    "        outDeg[source] += 1\n",
    "        inDeg[target] += 1\n",
    "    \n",
    "    return dict(inDeg), dict(outDeg)\n",
    "\n",
    "def degDis(degrees):\n",
    "    dist = defaultdict(int)\n",
    "    for degree in degrees.values():\n",
    "        dist[degree] += 1\n",
    "    \n",
    "    nodesCnt = sum(dist.values())\n",
    "    probDis = {k: v/nodesCnt for k, v in dist.items()}\n",
    "    \n",
    "    return dict(probDis)\n",
    "\n",
    "def deg(degrees, filename):\n",
    "    with open(filename, 'w', newline='') as f:\n",
    "        writer = csv.writer(f)\n",
    "        writer.writerow(['NodeId', 'Degree'])\n",
    "        for node, degree in degrees.items():\n",
    "            writer.writerow([node, degree])\n",
    "\n",
    "def plot(in_dist, out_dist, save_path):\n",
    "    plt.figure(figsize=(12, 6))\n",
    "    plt.subplot(1, 2, 1)\n",
    "    plt.loglog(list(in_dist.keys()), list(in_dist.values()), 'b.', label='In-degree')\n",
    "    plt.xlabel('Degree (log)')\n",
    "    plt.ylabel('Probability (log)')\n",
    "    plt.title('In-degree Distribution')\n",
    "    plt.grid(True)\n",
    "    plt.legend()\n",
    "    \n",
    "    plt.subplot(1, 2, 2)\n",
    "    plt.loglog(list(out_dist.keys()), list(out_dist.values()), 'r.', label='Out-degree')\n",
    "    plt.xlabel('Degree (log)')\n",
    "    plt.ylabel('Probability (log)')\n",
    "    plt.title('Out-degree Distribution')\n",
    "    plt.grid(True)\n",
    "    plt.legend()\n",
    "    plt.tight_layout()\n",
    "    plt.savefig(save_path)\n",
    "    plt.close()\n",
    "\n",
    "if __name__ == \"__main__\":\n",
    "    edges = data('data.txt')\n",
    "    inDeg, outDeg = degress(edges)\n",
    "    \n",
    "    deg(inDeg, 'inDegrees.csv')\n",
    "    deg(outDeg, 'outDegress.csv')\n",
    "\n",
    "    in_dist = degDis(inDeg)\n",
    "    out_dist = degDis(outDeg)\n",
    "    \n",
    "    plot(in_dist, out_dist, 'Degree Distribution.png')\n",
    "    print(f\"Number of nodes with in-degrees: {len(inDeg)}\")\n",
    "    print(f\"Number of nodes with out-degrees: {len(outDeg)}\")\n",
    "    print(f\"Maximum in-degree: {max(inDeg.values())}\")\n",
    "    print(f\"Maximum out-degree: {max(outDeg.values())}\")"
   ]
  }
 ],
 "metadata": {
  "kernelspec": {
   "display_name": "myenv",
   "language": "python",
   "name": "python3"
  },
  "language_info": {
   "codemirror_mode": {
    "name": "ipython",
    "version": 3
   },
   "file_extension": ".py",
   "mimetype": "text/x-python",
   "name": "python",
   "nbconvert_exporter": "python",
   "pygments_lexer": "ipython3",
   "version": "3.13.0"
  }
 },
 "nbformat": 4,
 "nbformat_minor": 2
}
